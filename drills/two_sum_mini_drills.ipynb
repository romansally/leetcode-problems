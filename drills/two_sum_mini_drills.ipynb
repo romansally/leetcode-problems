{
 "cells": [
  {
   "cell_type": "code",
   "execution_count": null,
   "metadata": {},
   "outputs": [],
   "source": [
    "from typing import Callable, Iterable, Tuple\n",
    "\n",
    "def run_tests(fn: Callable, cases: Iterable[Tuple]) -> None:\n",
    "    print(f\"Running {fn.__name__}...\")\n",
    "    for i, case in enumerate(cases, 1):\n",
    "        expected = case[-1]\n",
    "        args = case[:-1]\n",
    "        got = fn(*args)\n",
    "        assert got == expected, f\"❌ Case {i}: {args} → expected {expected}, got {got}\"\n",
    "    print(f\"✅ All {len(cases)} tests passed for {fn.__name__}\")\n"
   ]
  },
  {
   "cell_type": "code",
   "execution_count": null,
   "metadata": {},
   "outputs": [],
   "source": [
    "CASES = [\n",
    "    (2, 9, 7),\n",
    "    (7, 9, 2),\n",
    "    (11, 9, -2),\n",
    "]\n",
    "\n",
    "def complement(x: int, target: int) -> int:\n",
    "    # TODO: return target - x\n",
    "    raise NotImplementedError\n",
    "\n",
    "run_tests(complement, CASES)\n"
   ]
  },
  {
   "cell_type": "code",
   "execution_count": null,
   "metadata": {},
   "outputs": [],
   "source": [
    "CASES = [\n",
    "    ([2,7,11,15], 7, 1),\n",
    "    ([3,3,4], 3, 0),\n",
    "    ([1,2,3], 9, -1),\n",
    "]\n",
    "\n",
    "def first_index(nums: list[int], value: int) -> int:\n",
    "    # TODO: return first index of value in nums, or -1 if absent\n",
    "    raise NotImplementedError\n",
    "\n",
    "run_tests(first_index, CASES)\n"
   ]
  },
  {
   "cell_type": "code",
   "execution_count": null,
   "metadata": {},
   "outputs": [],
   "source": [
    "CASES = [\n",
    "    ([2,7,11,15], {2:0, 7:1, 11:2, 15:3}),\n",
    "    ([3,3,4], {3:1, 4:2}),  # last index wins\n",
    "]\n",
    "\n",
    "def build_index_map(nums: list[int]) -> dict[int,int]:\n",
    "    # TODO: map each value to its last index in nums\n",
    "    raise NotImplementedError\n",
    "\n",
    "run_tests(build_index_map, CASES)\n"
   ]
  },
  {
   "cell_type": "code",
   "execution_count": null,
   "metadata": {},
   "outputs": [],
   "source": [
    "CASES = [\n",
    "    ([2,7,11,15], 9, True),\n",
    "    ([1,2,3], 10, False),\n",
    "    ([3,3], 6, True),\n",
    "    ([0,4,3,0], 0, True),\n",
    "]\n",
    "\n",
    "def has_pair_sum(nums: list[int], target: int) -> bool:\n",
    "    \"\"\"\n",
    "    Hint:\n",
    "      - Maintain a set/dict of seen values.\n",
    "      - For each x, check if target - x is already seen; if so, True.\n",
    "      - Otherwise add x to seen and continue.\n",
    "    \"\"\"\n",
    "    # TODO\n",
    "    raise NotImplementedError\n",
    "\n",
    "run_tests(has_pair_sum, CASES)"
   ]
  },
  {
   "cell_type": "code",
   "execution_count": null,
   "metadata": {},
   "outputs": [],
   "source": [
    "CASES = [\n",
    "    ([2,7,11,15], 9, (0,1)),\n",
    "    ([3,2,4], 6, (1,2)),\n",
    "    ([3,3], 6, (0,1)),\n",
    "]\n",
    "\n",
    "def any_pair_indices(nums: list[int], target: int) -> tuple[int,int]:\n",
    "    \"\"\"\n",
    "    Same idea as Two Sum, but return a tuple (i, j) with i < j.\n",
    "    Great stepping stone before the full problem.\n",
    "    \"\"\"\n",
    "    # TODO\n",
    "    raise NotImplementedError\n",
    "\n",
    "run_tests(any_pair_indices, CASES)\n"
   ]
  }
 ],
 "metadata": {
  "kernelspec": {
   "display_name": "Python 3",
   "language": "python",
   "name": "python3"
  },
  "language_info": {
   "name": "python",
   "version": "3.12.0 (v3.12.0:0fb18b02c8, Oct  2 2023, 09:45:56) [Clang 13.0.0 (clang-1300.0.29.30)]"
  },
  "orig_nbformat": 4,
  "vscode": {
   "interpreter": {
    "hash": "aee8b7b246df8f9039afb4144a1f6fd8d2ca17a180786b69acc140d282b71a49"
   }
  }
 },
 "nbformat": 4,
 "nbformat_minor": 2
}
