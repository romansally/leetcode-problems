{
 "cells": [
  {
   "cell_type": "markdown",
   "metadata": {},
   "source": [
    "# Description\n",
    "Given an integer array nums sorted in non-decreasing order, remove the duplicates in-place such that each unique element appears only once. The relative order of the elements should be kept the same. Then return the number of unique elements in nums.\n",
    "\n",
    "Consider the number of unique elements of nums to be k, to get accepted, you need to do the following things:\n",
    "\n",
    "*   Change the array nums such that the first k elements of nums contain the unique elements in the order they were present in nums initially. The remaining elements of nums are not important as well as the size of nums.\n",
    "*   Return k."
   ]
  },
  {
   "cell_type": "markdown",
   "metadata": {},
   "source": [
    "# Examples:\n",
    "#### **Example 1:**\n",
    "**Input:** nums = [1,1,2]\\\n",
    "**Output:** 2, nums = [1,2,_]\\\n",
    "**Explanation:** Your function should return k = 2, with the first two elements of nums being 1 and 2 respectively.\\\n",
    "**Note:** It does not matter what you leave beyond the returned k (hence they are underscores).\n",
    "\n",
    "#### **Example 2:**\n",
    "**Input:** nums = [0,0,1,1,1,2,2,3,3,4]\\\n",
    "**Output:** 5, nums = [0,1,2,3,4,_,_,_,_,_]\\\n",
    "**Explanation:** Your function should return k = 5, with the first five elements of nums being 0, 1, 2, 3, and 4 respectively.\\\n",
    "**Note:** It does not matter what you leave beyond the returned k (hence they are underscores)."
   ]
  },
  {
   "cell_type": "markdown",
   "metadata": {},
   "source": [
    "## Attempt 1"
   ]
  },
  {
   "cell_type": "code",
   "execution_count": 3,
   "metadata": {},
   "outputs": [],
   "source": [
    "class Solution:\n",
    "  from typing import List\n",
    "  def removeDuplicates(self, nums: List[int]) -> int:\n",
    "    dupArr = [] # create an array to send first time numbers\n",
    "    for i in range(len(nums)): # goes through the array length - hits each #\n",
    "      if nums[i] in dupArr:\n",
    "        i+=1\n",
    "      else:\n",
    "        dupArr.append(nums[i])\n",
    "\n",
    "    numElements = len(dupArr)\n",
    "\n",
    "    return dupArr, numElements"
   ]
  },
  {
   "cell_type": "markdown",
   "metadata": {},
   "source": [
    "## Test 1"
   ]
  },
  {
   "cell_type": "code",
   "execution_count": 4,
   "metadata": {},
   "outputs": [
    {
     "name": "stdout",
     "output_type": "stream",
     "text": [
      "Example 1 Output: 5, [0, 1, 2, 3, 4]\n"
     ]
    }
   ],
   "source": [
    "nums1 = [0,0,1,1,1,2,2,3,3,4]\n",
    "solution1 = Solution()\n",
    "dupArr, numElements = solution1.removeDuplicates(nums1)\n",
    "print(f\"Example 1 Output: {numElements}, {dupArr}\")  # Correct Output: 5"
   ]
  }
 ],
 "metadata": {
  "kernelspec": {
   "display_name": "Python 3",
   "language": "python",
   "name": "python3"
  },
  "language_info": {
   "codemirror_mode": {
    "name": "ipython",
    "version": 3
   },
   "file_extension": ".py",
   "mimetype": "text/x-python",
   "name": "python",
   "nbconvert_exporter": "python",
   "pygments_lexer": "ipython3",
   "version": "3.10.15"
  }
 },
 "nbformat": 4,
 "nbformat_minor": 2
}
