{
 "cells": [
  {
   "cell_type": "markdown",
   "metadata": {},
   "source": [
    "# Description\n",
    "Given an array of strings `strs`, group all anagrams together into sublists. You may return the output in any order.\n",
    "\n",
    "An **anagram** is a string that contains the exact same characters as another string, but the order of the characters can be different.\n",
    "Consider the number of unique elements of nums to be k, to get accepted, you need to do the following things:\n",
    "\n",
    "*   Change the array nums such that the first k elements of nums contain the unique elements in the order they were present in nums initially. The remaining elements of nums are not important as well as the size of nums.\n",
    "*   Return k."
   ]
  },
  {
   "cell_type": "markdown",
   "metadata": {},
   "source": [
    "# Examples:\n",
    "#### **Example 1:**\n",
    "**Input:** strs = [\"act\",\"pots\",\"tops\",\"cat\",\"stop\",\"hat\"]\\\n",
    "**Output:** [[\"hat\"],[\"act\", \"cat\"],[\"stop\", \"pots\", \"tops\"]]\\\n",
    "**Explanation:** Your function should return k = 2, with the first two elements of nums being 1 and 2 respectively.\\\n",
    "**Note:** It does not matter what you leave beyond the returned k (hence they are underscores).\n",
    "\n",
    "#### **Example 2:**\n",
    "**Input:** strs = [\"x\"]\\\n",
    "**Output:** [[\"x\"]]\\\n",
    "**Explanation:** Your function should return k = 5, with the first five elements of nums being 0, 1, 2, 3, and 4 respectively.\\\n",
    "**Note:** It does not matter what you leave beyond the returned k (hence they are underscores).\n",
    "\n",
    "#### **Example 3:**\n",
    "**Input:** strs = [\"\"]\\\n",
    "**Output:** [[\"\"]]\\\n",
    "**Explanation:** Your function should return k = 5, with the first five elements of nums being 0, 1, 2, 3, and 4 respectively.\\\n",
    "**Note:** It does not matter what you leave beyond the returned k (hence they are underscores)."
   ]
  },
  {
   "cell_type": "markdown",
   "metadata": {},
   "source": [
    "## Attempt 1"
   ]
  },
  {
   "cell_type": "code",
   "execution_count": 11,
   "metadata": {},
   "outputs": [],
   "source": [
    "# Step 1: Import necessary modules and define the class structure\n",
    "from typing import List\n",
    "from collections import defaultdict\n",
    "\n",
    "class Solution:\n",
    "    def groupAnagrams(self, strs: List[str]) -> List[List[str]]:\n",
    "        pass  # We'll implement this in the next steps"
   ]
  },
  {
   "cell_type": "code",
   "execution_count": 12,
   "metadata": {},
   "outputs": [],
   "source": [
    "# Step 2: Initialize the defaultdict to store anagram groups\n",
    "class Solution:\n",
    "    def groupAnagrams(self, strs: List[str]) -> List[List[str]]:\n",
    "        # Initialize the defaultdict to store the anagram groups\n",
    "        anagrams = defaultdict(list)\n",
    "        \n",
    "        # Returning the empty anagrams dictionary for now\n",
    "        return anagrams"
   ]
  },
  {
   "cell_type": "code",
   "execution_count": 13,
   "metadata": {},
   "outputs": [
    {
     "name": "stdout",
     "output_type": "stream",
     "text": [
      "defaultdict(<class 'list'>, {})\n"
     ]
    }
   ],
   "source": [
    "# Test the initial dictionary structure\n",
    "solution = Solution()\n",
    "result = solution.groupAnagrams([])  # Testing with an empty list to check if dictionary is initialized\n",
    "print(result)  # Should print an empty defaultdict(<class 'list'>, {})"
   ]
  },
  {
   "cell_type": "code",
   "execution_count": 22,
   "metadata": {},
   "outputs": [],
   "source": [
    "# Step 3: Iterate through strings and print their sorted versions\n",
    "class Solution:\n",
    "    def groupAnagrams(self, strs: List[str]) -> List[List[str]]:\n",
    "        # Initialize the defaultdict to store the anagram groups\n",
    "        anagrams = defaultdict(list)\n",
    "        \n",
    "        # Iterate through each string in the list\n",
    "        for word in strs:\n",
    "            sorted_str = ''.join(sorted(word))  # Sort the string to get the key\n",
    "            print(f\"Original: {word}, Sorted: {sorted_str}\")  # Print original and sorted strings\n",
    "            anagrams[sorted_str].append(word)   # Group the strings by their sorted version\n",
    "        \n",
    "        return anagrams"
   ]
  },
  {
   "cell_type": "code",
   "execution_count": 17,
   "metadata": {},
   "outputs": [
    {
     "name": "stdout",
     "output_type": "stream",
     "text": [
      "Original: act, Sorted: act\n",
      "Original: pots, Sorted: opst\n",
      "Original: tops, Sorted: opst\n",
      "Original: cat, Sorted: act\n",
      "Original: stop, Sorted: opst\n",
      "Original: hat, Sorted: aht\n"
     ]
    }
   ],
   "source": [
    "# Test the sorting step with example input\n",
    "strs = [\"act\", \"pots\", \"tops\", \"cat\", \"stop\", \"hat\"]\n",
    "solution = Solution()\n",
    "result = solution.groupAnagrams(strs)  # Should print the sorted versions of each string"
   ]
  },
  {
   "cell_type": "code",
   "execution_count": 18,
   "metadata": {},
   "outputs": [],
   "source": [
    "# Step 4: Group the anagrams and return the result\n",
    "class Solution:\n",
    "    def groupAnagrams(self, strs: List[str]) -> List[List[str]]:\n",
    "        # Initialize the defaultdict to store the anagram groups\n",
    "        anagrams = defaultdict(list)\n",
    "        \n",
    "        # Iterate through each string in the list\n",
    "        for word in strs:\n",
    "            sorted_str = ''.join(sorted(word))  # Sort the string to get the key\n",
    "            anagrams[sorted_str].append(word)   # Group the strings by their sorted version\n",
    "        \n",
    "        # Print the dictionary to check the anagram groups\n",
    "        print(anagrams)\n",
    "        \n",
    "        return list(anagrams.values())  # Convert the dictionary values into a list of lists\n"
   ]
  },
  {
   "cell_type": "code",
   "execution_count": 19,
   "metadata": {},
   "outputs": [
    {
     "name": "stdout",
     "output_type": "stream",
     "text": [
      "defaultdict(<class 'list'>, {'act': ['act', 'cat'], 'opst': ['pots', 'tops', 'stop'], 'aht': ['hat']})\n",
      "[['act', 'cat'], ['pots', 'tops', 'stop'], ['hat']]\n"
     ]
    }
   ],
   "source": [
    "# Test the grouping step with example input\n",
    "strs = [\"act\", \"pots\", \"tops\", \"cat\", \"stop\", \"hat\"]\n",
    "solution = Solution()\n",
    "result = solution.groupAnagrams(strs)  # Should print the dictionary before returning the result\n",
    "print(result)  # Should print the grouped anagrams as a list of lists\n"
   ]
  },
  {
   "cell_type": "code",
   "execution_count": 20,
   "metadata": {},
   "outputs": [
    {
     "name": "stdout",
     "output_type": "stream",
     "text": [
      "defaultdict(<class 'list'>, {'x': ['x']})\n",
      "[['x']]\n",
      "defaultdict(<class 'list'>, {'': ['']})\n",
      "[['']]\n",
      "defaultdict(<class 'list'>, {'dgo': ['dog', 'god', 'ogd'], 'act': ['cat', 'act', 'tac']})\n",
      "[['dog', 'god', 'ogd'], ['cat', 'act', 'tac']]\n"
     ]
    }
   ],
   "source": [
    "# Step 5: Test with additional test cases\n",
    "strs1 = [\"x\"]\n",
    "strs2 = [\"\"]\n",
    "strs3 = [\"dog\", \"god\", \"cat\", \"act\", \"tac\", \"ogd\"]\n",
    "\n",
    "solution = Solution()\n",
    "\n",
    "# Test case 1: Single string\n",
    "print(solution.groupAnagrams(strs1))  # [[\"x\"]]\n",
    "\n",
    "# Test case 2: Empty string\n",
    "print(solution.groupAnagrams(strs2))  # [[\"\"]]\n",
    "\n",
    "# Test case 3: Mixed anagrams\n",
    "print(solution.groupAnagrams(strs3))  # [[\"dog\", \"god\", \"ogd\"], [\"cat\", \"act\", \"tac\"]]\n"
   ]
  },
  {
   "cell_type": "markdown",
   "metadata": {},
   "source": [
    "## Attempt 2"
   ]
  },
  {
   "cell_type": "code",
   "execution_count": 3,
   "metadata": {},
   "outputs": [],
   "source": [
    "class Solution:\n",
    "  from typing import List\n",
    "  def removeDuplicates(self, nums: List[int]) -> int:\n",
    "    dupArr = [] # create an array to send first time numbers\n",
    "    for i in range(len(nums)): # goes through the array length - hits each #\n",
    "      if nums[i] in dupArr:\n",
    "        i+=1\n",
    "      else:\n",
    "        dupArr.append(nums[i])\n",
    "\n",
    "    numElements = len(dupArr)\n",
    "\n",
    "    return dupArr, numElements"
   ]
  },
  {
   "cell_type": "markdown",
   "metadata": {},
   "source": [
    "## Test 1"
   ]
  },
  {
   "cell_type": "code",
   "execution_count": 4,
   "metadata": {},
   "outputs": [
    {
     "name": "stdout",
     "output_type": "stream",
     "text": [
      "Example 1 Output: 5, [0, 1, 2, 3, 4]\n"
     ]
    }
   ],
   "source": [
    "nums1 = [0,0,1,1,1,2,2,3,3,4]\n",
    "solution1 = Solution()\n",
    "dupArr, numElements = solution1.removeDuplicates(nums1)\n",
    "print(f\"Example 1 Output: {numElements}, {dupArr}\")  # Correct Output: 5"
   ]
  }
 ],
 "metadata": {
  "kernelspec": {
   "display_name": "Python 3",
   "language": "python",
   "name": "python3"
  },
  "language_info": {
   "codemirror_mode": {
    "name": "ipython",
    "version": 3
   },
   "file_extension": ".py",
   "mimetype": "text/x-python",
   "name": "python",
   "nbconvert_exporter": "python",
   "pygments_lexer": "ipython3",
   "version": "3.7.3"
  }
 },
 "nbformat": 4,
 "nbformat_minor": 2
}
