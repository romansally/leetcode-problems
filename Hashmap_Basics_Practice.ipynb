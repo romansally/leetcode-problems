{
  "cells": [
    {
      "cell_type": "markdown",
      "metadata": {},
      "source": [
        "# 🧠 Hashmap Basics — Practice Pack (Beginner)\n",
        "_Generated: 2025-09-13T15:14:34.909559Z_\n",
        "\n",
        "**How to use**\n",
        "1. Each problem below has: small test cases, a function skeleton, and a `run_tests(...)` call.\n",
        "2. Fill in the function (keep it simple). Avoid peeking at other solutions.\n",
        "3. Use the **Line Tracer** wrapper to see step‑by‑step execution of your code.\n",
        "\n",
        "No solutions included — this is for deliberate practice."
      ]
    },
    {
      "cell_type": "code",
      "execution_count": 2,
      "metadata": {},
      "outputs": [],
      "source": [
        "# ✅ Universal tiny test harness\n",
        "from typing import Callable, Iterable, Tuple\n",
        "\n",
        "def run_tests(fn: Callable, cases: Iterable[Tuple]) -> None:\n",
        "    print(f\"Running {fn.__name__}...\")\n",
        "    for i, case in enumerate(cases, 1):\n",
        "        expected = case[-1]\n",
        "        args = case[:-1]\n",
        "        got = fn(*args)\n",
        "        assert got == expected, f\"❌ Case {i}: {args} → expected {expected}, got {got}\"\n",
        "    print(f\"✅ All {len(cases)} tests passed for {fn.__name__}\")"
      ]
    },
    {
      "cell_type": "code",
      "execution_count": 4,
      "metadata": {},
      "outputs": [],
      "source": [
        "# 🔍 Optional: Line-by-line tracer (can be noisy)\n",
        "import sys, inspect\n",
        "\n",
        "def line_tracer(func: Callable, watch: tuple[str,...] = ()): \n",
        "    \"\"\"\n",
        "    Wrap a function so that each executed line is printed.\n",
        "    Optionally pass names in `watch` to print selected local variables.\n",
        "    Usage:\n",
        "        traced = line_tracer(my_func, watch=(\"i\",\"counts\"))\n",
        "        traced(*args)\n",
        "    \"\"\"\n",
        "    src = inspect.getsource(func)\n",
        "    start_line = func.__code__.co_firstlineno\n",
        "    src_lines = src.splitlines()\n",
        "    code_obj = func.__code__\n",
        "\n",
        "    def _tracer(frame, event, arg):\n",
        "        if frame.f_code is code_obj and event == 'line':\n",
        "            lineno = frame.f_lineno\n",
        "            try:\n",
        "                line_text = src_lines[lineno - start_line].rstrip()\n",
        "            except Exception:\n",
        "                line_text = \"<source unavailable>\"\n",
        "            msg = f\"▶ line {lineno}: {line_text}\"\n",
        "            print(msg)\n",
        "            if watch:\n",
        "                vals = {k: frame.f_locals.get(k, '<undef>') for k in watch}\n",
        "                print(\"   locals:\", vals)\n",
        "        return _tracer\n",
        "\n",
        "    def wrapper(*args, **kwargs):\n",
        "        old = sys.gettrace()\n",
        "        sys.settrace(_tracer)\n",
        "        try:\n",
        "            return func(*args, **kwargs)\n",
        "        finally:\n",
        "            sys.settrace(old)\n",
        "    wrapper.__name__ = func.__name__ + \"__traced\"\n",
        "    return wrapper"
      ]
    },
    {
      "cell_type": "markdown",
      "metadata": {},
      "source": [
        "## 1) Count Characters\n",
        "Input: `\"hello\"` → Output: `{ 'h':1, 'e':1, 'l':2, 'o':1 }`"
      ]
    },
    {
      "cell_type": "code",
      "execution_count": 20,
      "id": "3901013b",
      "metadata": {},
      "outputs": [
        {
          "name": "stdout",
          "output_type": "stream",
          "text": [
            "{'c': 1, 'o': 1, 'm': 1, 'p': 1, 'u': 1, 't': 1, 'e': 1, 'r': 2}\n"
          ]
        }
      ],
      "source": [
        "# creating dict\n",
        "x = \"computerr\"\n",
        "countX = {} # creating empty dict \n",
        "\n",
        "for xchar in x:\n",
        "    # print(countX.get(xchar, 0)) - prints 0's\n",
        "    # how to print the actual values\n",
        "    # Update the dictionary\n",
        "    countX[xchar] = countX.get(xchar, 0) + 1\n",
        "    \n",
        "print(countX)\n"
      ]
    },
    {
      "cell_type": "code",
      "execution_count": 13,
      "metadata": {},
      "outputs": [
        {
          "name": "stdout",
          "output_type": "stream",
          "text": [
            "Running count_chars...\n"
          ]
        },
        {
          "ename": "KeyError",
          "evalue": "'h'",
          "output_type": "error",
          "traceback": [
            "\u001b[0;31m---------------------------------------------------------------------------\u001b[0m",
            "\u001b[0;31mKeyError\u001b[0m                                  Traceback (most recent call last)",
            "Cell \u001b[0;32mIn[13], line 14\u001b[0m\n\u001b[1;32m     11\u001b[0m         \u001b[39mprint\u001b[39m(countS[char]\u001b[39m.\u001b[39mget(\u001b[39m0\u001b[39m))\n\u001b[1;32m     12\u001b[0m     \u001b[39mraise\u001b[39;00m \u001b[39mNotImplementedError\u001b[39;00m\n\u001b[0;32m---> 14\u001b[0m run_tests(count_chars, CASES_1)\n\u001b[1;32m     16\u001b[0m \u001b[39m# Example of tracing:\u001b[39;00m\n\u001b[1;32m     17\u001b[0m \u001b[39m# traced_count_chars = line_tracer(count_chars, watch=(\"s\",))\u001b[39;00m\n\u001b[1;32m     18\u001b[0m \u001b[39m# traced_count_chars(\"hello\")\u001b[39;00m\n",
            "Cell \u001b[0;32mIn[2], line 9\u001b[0m, in \u001b[0;36mrun_tests\u001b[0;34m(fn, cases)\u001b[0m\n\u001b[1;32m      7\u001b[0m     expected \u001b[39m=\u001b[39m case[\u001b[39m-\u001b[39m\u001b[39m1\u001b[39m]\n\u001b[1;32m      8\u001b[0m     args \u001b[39m=\u001b[39m case[:\u001b[39m-\u001b[39m\u001b[39m1\u001b[39m]\n\u001b[0;32m----> 9\u001b[0m     got \u001b[39m=\u001b[39m fn(\u001b[39m*\u001b[39;49margs)\n\u001b[1;32m     10\u001b[0m     \u001b[39massert\u001b[39;00m got \u001b[39m==\u001b[39m expected, \u001b[39mf\u001b[39m\u001b[39m\"\u001b[39m\u001b[39m❌ Case \u001b[39m\u001b[39m{\u001b[39;00mi\u001b[39m}\u001b[39;00m\u001b[39m: \u001b[39m\u001b[39m{\u001b[39;00margs\u001b[39m}\u001b[39;00m\u001b[39m → expected \u001b[39m\u001b[39m{\u001b[39;00mexpected\u001b[39m}\u001b[39;00m\u001b[39m, got \u001b[39m\u001b[39m{\u001b[39;00mgot\u001b[39m}\u001b[39;00m\u001b[39m\"\u001b[39m\n\u001b[1;32m     11\u001b[0m \u001b[39mprint\u001b[39m(\u001b[39mf\u001b[39m\u001b[39m\"\u001b[39m\u001b[39m✅ All \u001b[39m\u001b[39m{\u001b[39;00m\u001b[39mlen\u001b[39m(cases)\u001b[39m}\u001b[39;00m\u001b[39m tests passed for \u001b[39m\u001b[39m{\u001b[39;00mfn\u001b[39m.\u001b[39m\u001b[39m__name__\u001b[39m\u001b[39m}\u001b[39;00m\u001b[39m\"\u001b[39m)\n",
            "Cell \u001b[0;32mIn[13], line 11\u001b[0m, in \u001b[0;36mcount_chars\u001b[0;34m(s)\u001b[0m\n\u001b[1;32m      9\u001b[0m countS \u001b[39m=\u001b[39m {}\n\u001b[1;32m     10\u001b[0m \u001b[39mfor\u001b[39;00m char \u001b[39min\u001b[39;00m s:\n\u001b[0;32m---> 11\u001b[0m     \u001b[39mprint\u001b[39m(countS[char]\u001b[39m.\u001b[39mget(\u001b[39m0\u001b[39m))\n\u001b[1;32m     12\u001b[0m \u001b[39mraise\u001b[39;00m \u001b[39mNotImplementedError\u001b[39;00m\n",
            "\u001b[0;31mKeyError\u001b[0m: 'h'"
          ]
        }
      ],
      "source": [
        "CASES_1 = [\n",
        "    (\"hello\", {'h':1,'e':1,'l':2,'o':1}),\n",
        "    (\"\", {}),\n",
        "    (\"aab\", {'a':2,'b':1}),\n",
        "]\n",
        "\n",
        "def count_chars(s: str) -> dict:\n",
        "    # TODO: implement\n",
        "    countS = {}\n",
        "    for char in s:\n",
        "        print(countS[char].get(0))\n",
        "    raise NotImplementedError\n",
        "\n",
        "run_tests(count_chars, CASES_1)\n",
        "\n",
        "# Example of tracing:\n",
        "# traced_count_chars = line_tracer(count_chars, watch=(\"s\",))\n",
        "# traced_count_chars(\"hello\")"
      ]
    },
    {
      "cell_type": "markdown",
      "metadata": {},
      "source": [
        "## 2) Count Words\n",
        "Input: `\"apple banana apple orange banana apple\"` → Output: `{ 'apple':3, 'banana':2, 'orange':1 }`"
      ]
    },
    {
      "cell_type": "code",
      "execution_count": null,
      "metadata": {},
      "outputs": [],
      "source": [
        "CASES_2 = [\n",
        "    (\"apple banana apple orange banana apple\", {'apple':3,'banana':2,'orange':1}),\n",
        "    (\"one two two three three three\", {'one':1,'two':2,'three':3}),\n",
        "]\n",
        "\n",
        "def count_words(s: str) -> dict:\n",
        "    # TODO: implement\n",
        "    raise NotImplementedError\n",
        "\n",
        "run_tests(count_words, CASES_2)"
      ]
    },
    {
      "cell_type": "markdown",
      "metadata": {},
      "source": [
        "## 3) Find a Duplicate Number (return any duplicate, or None if all unique)\n",
        "Input: `[1,2,3,4,2]` → Output: `2`"
      ]
    },
    {
      "cell_type": "code",
      "execution_count": null,
      "metadata": {},
      "outputs": [],
      "source": [
        "CASES_3 = [\n",
        "    ([1,2,3,4,2], 2),\n",
        "    ([1,2,3,4], None),\n",
        "    ([9,9,9], 9),\n",
        "]\n",
        "\n",
        "def find_duplicate(nums: list[int]) -> int|None:\n",
        "    # TODO: implement\n",
        "    raise NotImplementedError\n",
        "\n",
        "run_tests(find_duplicate, CASES_3)"
      ]
    },
    {
      "cell_type": "markdown",
      "metadata": {},
      "source": [
        "## 4) Same Letters (ignoring order)\n",
        "Input: `\"listen\", \"silent\"` → Output: `True`"
      ]
    },
    {
      "cell_type": "code",
      "execution_count": null,
      "metadata": {},
      "outputs": [],
      "source": [
        "CASES_4 = [\n",
        "    (\"listen\",\"silent\", True),\n",
        "    (\"rat\",\"car\", False),\n",
        "    (\"a\",\"aa\", False),\n",
        "]\n",
        "\n",
        "def same_letters(a: str, b: str) -> bool:\n",
        "    # TODO: implement\n",
        "    raise NotImplementedError\n",
        "\n",
        "run_tests(same_letters, CASES_4)"
      ]
    },
    {
      "cell_type": "markdown",
      "metadata": {},
      "source": [
        "## 5) Most Frequent Number\n",
        "Input: `[1,1,2,3,3,3,4]` → Output: `3`"
      ]
    },
    {
      "cell_type": "code",
      "execution_count": null,
      "metadata": {},
      "outputs": [],
      "source": [
        "CASES_5 = [\n",
        "    ([1,1,2,3,3,3,4], 3),\n",
        "    ([5], 5),\n",
        "    ([2,2,2,1,1], 2),\n",
        "]\n",
        "\n",
        "def most_frequent(nums: list[int]) -> int:\n",
        "    # TODO: implement\n",
        "    raise NotImplementedError\n",
        "\n",
        "run_tests(most_frequent, CASES_5)"
      ]
    },
    {
      "cell_type": "markdown",
      "metadata": {},
      "source": [
        "## 6) Count Vowels in a String (only store vowels that appear)\n",
        "Input: `\"programming\"` → Output: `{ 'o':1, 'a':1, 'i':1 }`"
      ]
    },
    {
      "cell_type": "code",
      "execution_count": null,
      "metadata": {},
      "outputs": [],
      "source": [
        "CASES_6 = [\n",
        "    (\"programming\", {'o':1,'a':1,'i':1}),\n",
        "    (\"rhythm\", {}),\n",
        "    (\"aeiou\", {'a':1,'e':1,'i':1,'o':1,'u':1}),\n",
        "]\n",
        "\n",
        "def count_vowels(s: str) -> dict:\n",
        "    # TODO: implement\n",
        "    raise NotImplementedError\n",
        "\n",
        "run_tests(count_vowels, CASES_6)"
      ]
    },
    {
      "cell_type": "markdown",
      "metadata": {},
      "source": [
        "## 7) All Elements Unique?\n",
        "Input: `[1,2,3,4]` → `True` ; `[1,2,3,1]` → `False`"
      ]
    },
    {
      "cell_type": "code",
      "execution_count": null,
      "metadata": {},
      "outputs": [],
      "source": [
        "CASES_7 = [\n",
        "    ([1,2,3,4], True),\n",
        "    ([1,2,3,1], False),\n",
        "    ([], True),\n",
        "]\n",
        "\n",
        "def all_unique(nums: list[int]) -> bool:\n",
        "    # TODO: implement\n",
        "    raise NotImplementedError\n",
        "\n",
        "run_tests(all_unique, CASES_7)"
      ]
    },
    {
      "cell_type": "markdown",
      "metadata": {},
      "source": [
        "## 8) Map Student → Grades (collect all grades per student)\n",
        "Input: `[(\"Alice\",\"A\"),(\"Bob\",\"B\"),(\"Alice\",\"A\")]` → `{ \"Alice\":[\"A\",\"A\"], \"Bob\":[\"B\"] }`"
      ]
    },
    {
      "cell_type": "code",
      "execution_count": null,
      "metadata": {},
      "outputs": [],
      "source": [
        "CASES_8 = [\n",
        "    ([('Alice','A'),('Bob','B'),('Alice','A')], {\"Alice\":[\"A\",\"A\"], \"Bob\":[\"B\"]}),\n",
        "    ([], {}),\n",
        "]\n",
        "\n",
        "def group_grades(pairs: list[tuple[str,str]]) -> dict[str,list[str]]:\n",
        "    # TODO: implement\n",
        "    raise NotImplementedError\n",
        "\n",
        "run_tests(group_grades, CASES_8)"
      ]
    },
    {
      "cell_type": "markdown",
      "metadata": {},
      "source": [
        "## 9) Reverse Lookup (value → list of keys)\n",
        "Input: `{ \"Alice\":\"A\", \"Bob\":\"B\", \"Cara\":\"A\" }` → `{ \"A\":[\"Alice\",\"Cara\"], \"B\":[\"Bob\"] }`"
      ]
    },
    {
      "cell_type": "code",
      "execution_count": null,
      "metadata": {},
      "outputs": [],
      "source": [
        "CASES_9 = [\n",
        "    ({\"Alice\":\"A\", \"Bob\":\"B\", \"Cara\":\"A\"}, {\"A\":[\"Alice\",\"Cara\"], \"B\":[\"Bob\"]}),\n",
        "    ({}, {}),\n",
        "]\n",
        "\n",
        "def reverse_lookup(mapping: dict[str,str]) -> dict[str,list[str]]:\n",
        "    # TODO: implement\n",
        "    raise NotImplementedError\n",
        "\n",
        "run_tests(reverse_lookup, CASES_9)"
      ]
    },
    {
      "cell_type": "markdown",
      "metadata": {},
      "source": [
        "## 10) Last Seen Index (element → last index)\n",
        "Input: `[4,5,6,5,4]` → `{4:4, 5:3, 6:2}`"
      ]
    },
    {
      "cell_type": "code",
      "execution_count": null,
      "metadata": {},
      "outputs": [],
      "source": [
        "CASES_10 = [\n",
        "    ([4,5,6,5,4], {4:4,5:3,6:2}),\n",
        "    ([], {}),\n",
        "    ([1,1,1], {1:2}),\n",
        "]\n",
        "\n",
        "def last_seen_index(nums: list[int]) -> dict[int,int]:\n",
        "    # TODO: implement\n",
        "    raise NotImplementedError\n",
        "\n",
        "run_tests(last_seen_index, CASES_10)"
      ]
    },
    {
      "cell_type": "markdown",
      "metadata": {},
      "source": [
        "---\n",
        "### 👣 Tip: How to see your progress step by step\n",
        "- Wrap your function with `line_tracer(your_func, watch=(\"i\",\"counts\"))` to print each executed line and selected locals.\n",
        "- Or add tiny prints in your loops (e.g., print the hashmap after each update). Keep it minimal to avoid noise.\n",
        "- Use small inputs first, then scale up."
      ]
    }
  ],
  "metadata": {
    "colab": {
      "name": "Hashmap_Basics_Practice.ipynb"
    },
    "kernelspec": {
      "display_name": "Python 3",
      "language": "python",
      "name": "python3"
    },
    "language_info": {
      "codemirror_mode": {
        "name": "ipython",
        "version": 3
      },
      "file_extension": ".py",
      "mimetype": "text/x-python",
      "name": "python",
      "nbconvert_exporter": "python",
      "pygments_lexer": "ipython3",
      "version": "3.12.0"
    },
    "vscode": {
      "interpreter": {
        "hash": "aee8b7b246df8f9039afb4144a1f6fd8d2ca17a180786b69acc140d282b71a49"
      }
    }
  },
  "nbformat": 4,
  "nbformat_minor": 5
}
