{
 "cells": [
  {
   "cell_type": "code",
   "execution_count": null,
   "metadata": {},
   "outputs": [],
   "source": [
    "from typing import Callable, Iterable, Tuple\n",
    "\n",
    "def run_tests(fn: Callable, cases: Iterable[Tuple]) -> None:\n",
    "    print(f\"Running {fn.__name__}...\")\n",
    "    for i, case in enumerate(cases, 1):\n",
    "        expected = case[-1]\n",
    "        args = case[:-1]\n",
    "        got = fn(*args)\n",
    "        assert got == expected, f\"❌ Case {i}: {args} → expected {expected}, got {got}\"\n",
    "    print(f\"✅ All {len(cases)} tests passed for {fn.__name__}\")\n"
   ]
  },
  {
   "attachments": {},
   "cell_type": "markdown",
   "metadata": {},
   "source": [
    "## Problem: (name)\n",
    "- Link:\n",
    "- Goal:\n",
    "- Constraints:\n",
    "- Examples:\n"
   ]
  },
  {
   "cell_type": "code",
   "execution_count": null,
   "metadata": {},
   "outputs": [],
   "source": [
    "CASES = []"
   ]
  },
  {
   "cell_type": "code",
   "execution_count": null,
   "metadata": {},
   "outputs": [],
   "source": [
    "def solution(*args):\n",
    "    \"\"\"TODO\"\"\"\n",
    "    raise NotImplementedError"
   ]
  },
  {
   "cell_type": "code",
   "execution_count": null,
   "metadata": {},
   "outputs": [],
   "source": [
    "run_tests(solution, CASES)"
   ]
  }
 ],
 "metadata": {
  "kernelspec": {
   "display_name": "Python 3",
   "language": "python",
   "name": "python3"
  },
  "language_info": {
   "name": "python",
   "version": "3.12.0 (v3.12.0:0fb18b02c8, Oct  2 2023, 09:45:56) [Clang 13.0.0 (clang-1300.0.29.30)]"
  },
  "orig_nbformat": 4,
  "vscode": {
   "interpreter": {
    "hash": "aee8b7b246df8f9039afb4144a1f6fd8d2ca17a180786b69acc140d282b71a49"
   }
  }
 },
 "nbformat": 4,
 "nbformat_minor": 2
}
