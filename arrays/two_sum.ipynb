{
 "cells": [
  {
   "cell_type": "code",
   "execution_count": null,
   "metadata": {},
   "outputs": [],
   "source": [
    "from typing import Callable, Iterable, Tuple\n",
    "\n",
    "def run_tests(fn: Callable, cases: Iterable[Tuple]) -> None:\n",
    "    print(f\"Running {fn.__name__}...\")\n",
    "    for i, case in enumerate(cases, 1):\n",
    "        expected = case[-1]\n",
    "        args = case[:-1]\n",
    "        got = fn(*args)\n",
    "        assert got == expected, f\"❌ Case {i}: {args} → expected {expected}, got {got}\"\n",
    "    print(f\"✅ All {len(cases)} tests passed for {fn.__name__}\")\n"
   ]
  },
  {
   "attachments": {},
   "cell_type": "markdown",
   "metadata": {},
   "source": [
    "## Problem: Two Sum\n",
    "- **Link:** https://leetcode.com/problems/two-sum/\n",
    "- **Goal:** Given `nums` and `target`, return indices `[i, j]` such that `nums[i] + nums[j] == target` and `i != j`. Any valid pair is fine.\n",
    "- **Constraints:** Values may be negative/zero/positive; duplicates allowed; 1 ≤ len(nums).\n",
    "- **Target:** O(n) time, O(n) space.\n",
    "- **Examples:**\n",
    "  - `[2,7,11,15]`, `9` → `[0,1]`\n",
    "  - `[3,2,4]`, `6` → `[1,2]`\n",
    "  - `[3,3]`, `6` → `[0,1]`\n",
    "\n"
   ]
  },
  {
   "cell_type": "code",
   "execution_count": null,
   "metadata": {},
   "outputs": [],
   "source": [
    "CASES = [\n",
    "    ([2,7,11,15], 9, [0,1]),\n",
    "    ([3,2,4], 6, [1,2]),\n",
    "    ([3,3], 6, [0,1]),\n",
    "    ([-1,-2,-3,-4,-5], -8, [2,4]),\n",
    "    ([0,4,3,0], 0, [0,3]),\n",
    "]"
   ]
  },
  {
   "cell_type": "code",
   "execution_count": null,
   "metadata": {},
   "outputs": [],
   "source": [
    "def two_sum_v1(nums: list[int], target: int) -> list[int]:\n",
    "    \"\"\"\n",
    "    Idea:\n",
    "      - Iterate i from left to right.\n",
    "      - need = target - nums[i].\n",
    "      - If need has been seen before, return [index_of_need, i].\n",
    "      - Otherwise remember nums[i] -> i.\n",
    "    \"\"\"\n",
    "    # TODO: implement\n",
    "    raise NotImplementedError\n",
    "\n",
    "\n",
    "def two_sum_v2(nums: list[int], target: int) -> list[int]:\n",
    "    \"\"\"\n",
    "    Alternate idea (for practice):\n",
    "      - Same hashmap pattern but try a different iteration pattern\n",
    "        or handle duplicates consciously.\n",
    "    \"\"\"\n",
    "    # TODO: implement\n",
    "    raise NotImplementedError\n"
   ]
  },
  {
   "cell_type": "code",
   "execution_count": null,
   "metadata": {},
   "outputs": [],
   "source": [
    "run_tests(two_sum_v1, CASES)\n",
    "# run_tests(two_sum_v2, CASES)\n"
   ]
  }
 ],
 "metadata": {
  "kernelspec": {
   "display_name": "Python 3",
   "language": "python",
   "name": "python3"
  },
  "language_info": {
   "name": "python",
   "version": "3.12.0 (v3.12.0:0fb18b02c8, Oct  2 2023, 09:45:56) [Clang 13.0.0 (clang-1300.0.29.30)]"
  },
  "orig_nbformat": 4,
  "vscode": {
   "interpreter": {
    "hash": "aee8b7b246df8f9039afb4144a1f6fd8d2ca17a180786b69acc140d282b71a49"
   }
  }
 },
 "nbformat": 4,
 "nbformat_minor": 2
}
